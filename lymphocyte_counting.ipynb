{
  "nbformat": 4,
  "nbformat_minor": 0,
  "metadata": {
    "colab": {
      "name": "lymphocyte_counting.ipynb",
      "provenance": [],
      "collapsed_sections": []
    },
    "kernelspec": {
      "name": "python3",
      "display_name": "Python 3"
    }
  },
  "cells": [
    {
      "cell_type": "code",
      "metadata": {
        "id": "CKnLcGorYk7S",
        "colab": {
          "base_uri": "https://localhost:8080/"
        },
        "outputId": "b0888616-20d7-436b-d0a6-602b0a1395fc"
      },
      "source": [
        "!unzip '/content/lymphocyte.zip'"
      ],
      "execution_count": null,
      "outputs": [
        {
          "output_type": "stream",
          "text": [
            "Archive:  /content/lymphocyte.zip\n",
            "   creating: lymphocyte/\n",
            "   creating: lymphocyte/data/\n",
            "  inflating: lymphocyte/data/im1.tif  \n",
            "  inflating: lymphocyte/data/im10.tif  \n",
            "  inflating: lymphocyte/data/im100.tif  \n",
            "  inflating: lymphocyte/data/im11.tif  \n",
            "  inflating: lymphocyte/data/im12.tif  \n",
            "  inflating: lymphocyte/data/im13.tif  \n",
            "  inflating: lymphocyte/data/im14.tif  \n",
            "  inflating: lymphocyte/data/im15.tif  \n",
            "  inflating: lymphocyte/data/im16.tif  \n",
            "  inflating: lymphocyte/data/im17.tif  \n",
            "  inflating: lymphocyte/data/im18.tif  \n",
            "  inflating: lymphocyte/data/im19.tif  \n",
            "  inflating: lymphocyte/data/im2.tif  \n",
            "  inflating: lymphocyte/data/im20.tif  \n",
            "  inflating: lymphocyte/data/im21.tif  \n",
            "  inflating: lymphocyte/data/im22.tif  \n",
            "  inflating: lymphocyte/data/im23.tif  \n",
            "  inflating: lymphocyte/data/im24.tif  \n",
            "  inflating: lymphocyte/data/im25.tif  \n",
            "  inflating: lymphocyte/data/im26.tif  \n",
            "  inflating: lymphocyte/data/im27.tif  \n",
            "  inflating: lymphocyte/data/im28.tif  \n",
            "  inflating: lymphocyte/data/im29.tif  \n",
            "  inflating: lymphocyte/data/im3.tif  \n",
            "  inflating: lymphocyte/data/im30.tif  \n",
            "  inflating: lymphocyte/data/im31.tif  \n",
            "  inflating: lymphocyte/data/im32.tif  \n",
            "  inflating: lymphocyte/data/im33.tif  \n",
            "  inflating: lymphocyte/data/im34.tif  \n",
            "  inflating: lymphocyte/data/im35.tif  \n",
            "  inflating: lymphocyte/data/im36.tif  \n",
            "  inflating: lymphocyte/data/im37.tif  \n",
            "  inflating: lymphocyte/data/im38.tif  \n",
            "  inflating: lymphocyte/data/im39.tif  \n",
            "  inflating: lymphocyte/data/im4.tif  \n",
            "  inflating: lymphocyte/data/im40.tif  \n",
            "  inflating: lymphocyte/data/im41.tif  \n",
            "  inflating: lymphocyte/data/im42.tif  \n",
            "  inflating: lymphocyte/data/im43.tif  \n",
            "  inflating: lymphocyte/data/im44.tif  \n",
            "  inflating: lymphocyte/data/im45.tif  \n",
            "  inflating: lymphocyte/data/im46.tif  \n",
            "  inflating: lymphocyte/data/im47.tif  \n",
            "  inflating: lymphocyte/data/im48.tif  \n",
            "  inflating: lymphocyte/data/im49.tif  \n",
            "  inflating: lymphocyte/data/im5.tif  \n",
            "  inflating: lymphocyte/data/im50.tif  \n",
            "  inflating: lymphocyte/data/im51.tif  \n",
            "  inflating: lymphocyte/data/im52.tif  \n",
            "  inflating: lymphocyte/data/im53.tif  \n",
            "  inflating: lymphocyte/data/im54.tif  \n",
            "  inflating: lymphocyte/data/im55.tif  \n",
            "  inflating: lymphocyte/data/im56.tif  \n",
            "  inflating: lymphocyte/data/im57.tif  \n",
            "  inflating: lymphocyte/data/im58.tif  \n",
            "  inflating: lymphocyte/data/im59.tif  \n",
            "  inflating: lymphocyte/data/im6.tif  \n",
            "  inflating: lymphocyte/data/im60.tif  \n",
            "  inflating: lymphocyte/data/im61.tif  \n",
            "  inflating: lymphocyte/data/im62.tif  \n",
            "  inflating: lymphocyte/data/im63.tif  \n",
            "  inflating: lymphocyte/data/im64.tif  \n",
            "  inflating: lymphocyte/data/im65.tif  \n",
            "  inflating: lymphocyte/data/im66.tif  \n",
            "  inflating: lymphocyte/data/im67.tif  \n",
            "  inflating: lymphocyte/data/im68.tif  \n",
            "  inflating: lymphocyte/data/im69.tif  \n",
            "  inflating: lymphocyte/data/im7.tif  \n",
            "  inflating: lymphocyte/data/im70.tif  \n",
            "  inflating: lymphocyte/data/im71.tif  \n",
            "  inflating: lymphocyte/data/im72.tif  \n",
            "  inflating: lymphocyte/data/im73.tif  \n",
            "  inflating: lymphocyte/data/im74.tif  \n",
            "  inflating: lymphocyte/data/im75.tif  \n",
            "  inflating: lymphocyte/data/im76.tif  \n",
            "  inflating: lymphocyte/data/im77.tif  \n",
            "  inflating: lymphocyte/data/im78.tif  \n",
            "  inflating: lymphocyte/data/im79.tif  \n",
            "  inflating: lymphocyte/data/im8.tif  \n",
            "  inflating: lymphocyte/data/im80.tif  \n",
            "  inflating: lymphocyte/data/im81.tif  \n",
            "  inflating: lymphocyte/data/im82.tif  \n",
            "  inflating: lymphocyte/data/im83.tif  \n",
            "  inflating: lymphocyte/data/im84.tif  \n",
            "  inflating: lymphocyte/data/im85.tif  \n",
            "  inflating: lymphocyte/data/im86.tif  \n",
            "  inflating: lymphocyte/data/im87.tif  \n",
            "  inflating: lymphocyte/data/im88.tif  \n",
            "  inflating: lymphocyte/data/im89.tif  \n",
            "  inflating: lymphocyte/data/im9.tif  \n",
            "  inflating: lymphocyte/data/im90.tif  \n",
            "  inflating: lymphocyte/data/im91.tif  \n",
            "  inflating: lymphocyte/data/im92.tif  \n",
            "  inflating: lymphocyte/data/im93.tif  \n",
            "  inflating: lymphocyte/data/im94.tif  \n",
            "  inflating: lymphocyte/data/im95.tif  \n",
            "  inflating: lymphocyte/data/im96.tif  \n",
            "  inflating: lymphocyte/data/im97.tif  \n",
            "  inflating: lymphocyte/data/im98.tif  \n",
            "  inflating: lymphocyte/data/im99.tif  \n",
            "   creating: lymphocyte/manual_seg/\n",
            "   creating: lymphocyte/manual_seg/boundary/\n",
            "  inflating: lymphocyte/manual_seg/boundary/image14L1.tif  \n",
            "  inflating: lymphocyte/manual_seg/boundary/image14L2.tif  \n",
            "  inflating: lymphocyte/manual_seg/boundary/image14L3.tif  \n",
            "  inflating: lymphocyte/manual_seg/boundary/image14L4.tif  \n",
            "  inflating: lymphocyte/manual_seg/boundary/image14L5.tif  \n",
            "  inflating: lymphocyte/manual_seg/boundary/image15L1.tif  \n",
            "  inflating: lymphocyte/manual_seg/boundary/image15L2.tif  \n",
            "  inflating: lymphocyte/manual_seg/boundary/image15L3.tif  \n",
            "  inflating: lymphocyte/manual_seg/boundary/image15L4.tif  \n",
            "  inflating: lymphocyte/manual_seg/boundary/image15L5.tif  \n",
            "  inflating: lymphocyte/manual_seg/boundary/image16L1.tif  \n",
            "  inflating: lymphocyte/manual_seg/boundary/image16L2.tif  \n",
            "  inflating: lymphocyte/manual_seg/boundary/image16L3.tif  \n",
            "  inflating: lymphocyte/manual_seg/boundary/image16L4.tif  \n",
            "  inflating: lymphocyte/manual_seg/boundary/image16L5.tif  \n",
            "  inflating: lymphocyte/manual_seg/boundary/image17L1.tif  \n",
            "  inflating: lymphocyte/manual_seg/boundary/image17L2.tif  \n",
            "  inflating: lymphocyte/manual_seg/boundary/image17L3.tif  \n",
            "  inflating: lymphocyte/manual_seg/boundary/image17L4.tif  \n",
            "  inflating: lymphocyte/manual_seg/boundary/image17L5.tif  \n",
            "  inflating: lymphocyte/manual_seg/boundary/image18L1.tif  \n",
            "  inflating: lymphocyte/manual_seg/boundary/image18L2.tif  \n",
            "  inflating: lymphocyte/manual_seg/boundary/image18L3.tif  \n",
            "  inflating: lymphocyte/manual_seg/boundary/image18L4.tif  \n",
            "  inflating: lymphocyte/manual_seg/boundary/image18L5.tif  \n",
            "  inflating: lymphocyte/manual_seg/boundary/image19L1.tif  \n",
            "  inflating: lymphocyte/manual_seg/boundary/image19L2.tif  \n",
            "  inflating: lymphocyte/manual_seg/boundary/image19L3.tif  \n",
            "  inflating: lymphocyte/manual_seg/boundary/image19L4.tif  \n",
            "  inflating: lymphocyte/manual_seg/boundary/image19L5.tif  \n",
            "  inflating: lymphocyte/manual_seg/boundary/image1L1.tif  \n",
            "  inflating: lymphocyte/manual_seg/boundary/image1L2.tif  \n",
            "  inflating: lymphocyte/manual_seg/boundary/image1L3.tif  \n",
            "  inflating: lymphocyte/manual_seg/boundary/image1L4.tif  \n",
            "  inflating: lymphocyte/manual_seg/boundary/image1L5.tif  \n",
            "  inflating: lymphocyte/manual_seg/boundary/image20L1.tif  \n",
            "  inflating: lymphocyte/manual_seg/boundary/image20L2.tif  \n",
            "  inflating: lymphocyte/manual_seg/boundary/image20L3.tif  \n",
            "  inflating: lymphocyte/manual_seg/boundary/image20L4.tif  \n",
            "  inflating: lymphocyte/manual_seg/boundary/image20L5.tif  \n",
            "  inflating: lymphocyte/manual_seg/boundary/image21L1.tif  \n",
            "  inflating: lymphocyte/manual_seg/boundary/image21L2.tif  \n",
            "  inflating: lymphocyte/manual_seg/boundary/image21L3.tif  \n",
            "  inflating: lymphocyte/manual_seg/boundary/image21L4.tif  \n",
            "  inflating: lymphocyte/manual_seg/boundary/image21L5.tif  \n",
            "  inflating: lymphocyte/manual_seg/boundary/image22L1.tif  \n",
            "  inflating: lymphocyte/manual_seg/boundary/image22L2.tif  \n",
            "  inflating: lymphocyte/manual_seg/boundary/image22L3.tif  \n",
            "  inflating: lymphocyte/manual_seg/boundary/image22L4.tif  \n",
            "  inflating: lymphocyte/manual_seg/boundary/image22L5.tif  \n",
            "  inflating: lymphocyte/manual_seg/boundary/image2L1.tif  \n",
            "  inflating: lymphocyte/manual_seg/boundary/image2L2.tif  \n",
            "  inflating: lymphocyte/manual_seg/boundary/image2L3.tif  \n",
            "  inflating: lymphocyte/manual_seg/boundary/image2L4.tif  \n",
            "  inflating: lymphocyte/manual_seg/boundary/image2L5.tif  \n",
            "  inflating: lymphocyte/manual_seg/boundary/image34L1.tif  \n",
            "  inflating: lymphocyte/manual_seg/boundary/image34L2.tif  \n",
            "  inflating: lymphocyte/manual_seg/boundary/image34L3.tif  \n",
            "  inflating: lymphocyte/manual_seg/boundary/image34L4.tif  \n",
            "  inflating: lymphocyte/manual_seg/boundary/image34L5.tif  \n",
            "  inflating: lymphocyte/manual_seg/boundary/image35L1.tif  \n",
            "  inflating: lymphocyte/manual_seg/boundary/image35L2.tif  \n",
            "  inflating: lymphocyte/manual_seg/boundary/image35L3.tif  \n",
            "  inflating: lymphocyte/manual_seg/boundary/image35L4.tif  \n",
            "  inflating: lymphocyte/manual_seg/boundary/image35L5.tif  \n",
            "  inflating: lymphocyte/manual_seg/boundary/image3L1.tif  \n",
            "  inflating: lymphocyte/manual_seg/boundary/image3L2.tif  \n",
            "  inflating: lymphocyte/manual_seg/boundary/image3L3.tif  \n",
            "  inflating: lymphocyte/manual_seg/boundary/image3L4.tif  \n",
            "  inflating: lymphocyte/manual_seg/boundary/image3L5.tif  \n",
            "  inflating: lymphocyte/manual_seg/boundary/image4L1.tif  \n",
            "  inflating: lymphocyte/manual_seg/boundary/image4L2.tif  \n",
            "  inflating: lymphocyte/manual_seg/boundary/image4L3.tif  \n",
            "  inflating: lymphocyte/manual_seg/boundary/image4L4.tif  \n",
            "  inflating: lymphocyte/manual_seg/boundary/image4L5.tif  \n",
            "  inflating: lymphocyte/manual_seg/boundary/image5L1.tif  \n",
            "  inflating: lymphocyte/manual_seg/boundary/image5L2.tif  \n",
            "  inflating: lymphocyte/manual_seg/boundary/image5L3.tif  \n",
            "  inflating: lymphocyte/manual_seg/boundary/image5L4.tif  \n",
            "  inflating: lymphocyte/manual_seg/boundary/image5L5.tif  \n",
            "  inflating: lymphocyte/manual_seg/boundary/image6L1.tif  \n",
            "  inflating: lymphocyte/manual_seg/boundary/image6L2.tif  \n",
            "  inflating: lymphocyte/manual_seg/boundary/image6L3.tif  \n",
            "  inflating: lymphocyte/manual_seg/boundary/image6L4.tif  \n",
            "  inflating: lymphocyte/manual_seg/boundary/image6L5.tif  \n",
            "  inflating: lymphocyte/manual_seg/boundary/image7L1.tif  \n",
            "  inflating: lymphocyte/manual_seg/boundary/image7L2.tif  \n",
            "  inflating: lymphocyte/manual_seg/boundary/image7L3.tif  \n",
            "  inflating: lymphocyte/manual_seg/boundary/image7L4.tif  \n",
            "  inflating: lymphocyte/manual_seg/boundary/image7L5.tif  \n",
            "  inflating: lymphocyte/manual_seg/boundary/image8L1.tif  \n",
            "  inflating: lymphocyte/manual_seg/boundary/image8L2.tif  \n",
            "  inflating: lymphocyte/manual_seg/boundary/image8L3.tif  \n",
            "  inflating: lymphocyte/manual_seg/boundary/image8L4.tif  \n",
            "  inflating: lymphocyte/manual_seg/boundary/image8L5.tif  \n",
            "  inflating: lymphocyte/manual_seg/boundary/image9L1.tif  \n",
            "  inflating: lymphocyte/manual_seg/boundary/image9L2.tif  \n",
            "  inflating: lymphocyte/manual_seg/boundary/image9L3.tif  \n",
            "  inflating: lymphocyte/manual_seg/boundary/image9L4.tif  \n",
            "  inflating: lymphocyte/manual_seg/boundary/image9L5.tif  \n",
            "   creating: lymphocyte/manual_seg/center/\n",
            "  inflating: lymphocyte/manual_seg/center/100m.tif  \n",
            "  inflating: lymphocyte/manual_seg/center/10m.tif  \n",
            "  inflating: lymphocyte/manual_seg/center/11m.tif  \n",
            "  inflating: lymphocyte/manual_seg/center/12m.tif  \n",
            "  inflating: lymphocyte/manual_seg/center/13m.tif  \n",
            "  inflating: lymphocyte/manual_seg/center/14m.tif  \n",
            "  inflating: lymphocyte/manual_seg/center/15m.tif  \n",
            "  inflating: lymphocyte/manual_seg/center/16m.tif  \n",
            "  inflating: lymphocyte/manual_seg/center/17m.tif  \n",
            "  inflating: lymphocyte/manual_seg/center/18m.tif  \n",
            "  inflating: lymphocyte/manual_seg/center/19m.tif  \n",
            "  inflating: lymphocyte/manual_seg/center/1m.tif  \n",
            "  inflating: lymphocyte/manual_seg/center/20m.tif  \n",
            "  inflating: lymphocyte/manual_seg/center/21m.tif  \n",
            "  inflating: lymphocyte/manual_seg/center/22m.tif  \n",
            "  inflating: lymphocyte/manual_seg/center/23m.tif  \n",
            "  inflating: lymphocyte/manual_seg/center/24m.tif  \n",
            "  inflating: lymphocyte/manual_seg/center/25m.tif  \n",
            "  inflating: lymphocyte/manual_seg/center/26m.tif  \n",
            "  inflating: lymphocyte/manual_seg/center/27m.tif  \n",
            "  inflating: lymphocyte/manual_seg/center/28m.tif  \n",
            "  inflating: lymphocyte/manual_seg/center/29m.tif  \n",
            "  inflating: lymphocyte/manual_seg/center/2m.tif  \n",
            "  inflating: lymphocyte/manual_seg/center/30m.tif  \n",
            "  inflating: lymphocyte/manual_seg/center/31m.tif  \n",
            "  inflating: lymphocyte/manual_seg/center/32m.tif  \n",
            "  inflating: lymphocyte/manual_seg/center/33m.tif  \n",
            "  inflating: lymphocyte/manual_seg/center/34m.tif  \n",
            "  inflating: lymphocyte/manual_seg/center/35m.tif  \n",
            "  inflating: lymphocyte/manual_seg/center/36m.tif  \n",
            "  inflating: lymphocyte/manual_seg/center/37m.tif  \n",
            "  inflating: lymphocyte/manual_seg/center/38m.tif  \n",
            "  inflating: lymphocyte/manual_seg/center/39m.tif  \n",
            "  inflating: lymphocyte/manual_seg/center/3m.tif  \n",
            "  inflating: lymphocyte/manual_seg/center/40m.tif  \n",
            "  inflating: lymphocyte/manual_seg/center/41m.tif  \n",
            "  inflating: lymphocyte/manual_seg/center/42m.tif  \n",
            "  inflating: lymphocyte/manual_seg/center/43m.tif  \n",
            "  inflating: lymphocyte/manual_seg/center/44m.tif  \n",
            "  inflating: lymphocyte/manual_seg/center/45m.tif  \n",
            "  inflating: lymphocyte/manual_seg/center/46m.tif  \n",
            "  inflating: lymphocyte/manual_seg/center/47m.tif  \n",
            "  inflating: lymphocyte/manual_seg/center/48m.tif  \n",
            "  inflating: lymphocyte/manual_seg/center/49m.tif  \n",
            "  inflating: lymphocyte/manual_seg/center/4m.tif  \n",
            "  inflating: lymphocyte/manual_seg/center/50m.tif  \n",
            "  inflating: lymphocyte/manual_seg/center/51m.tif  \n",
            "  inflating: lymphocyte/manual_seg/center/52m.tif  \n",
            "  inflating: lymphocyte/manual_seg/center/53m.tif  \n",
            "  inflating: lymphocyte/manual_seg/center/54m.tif  \n",
            "  inflating: lymphocyte/manual_seg/center/55m.tif  \n",
            "  inflating: lymphocyte/manual_seg/center/56m.tif  \n",
            "  inflating: lymphocyte/manual_seg/center/57m.tif  \n",
            "  inflating: lymphocyte/manual_seg/center/58m.tif  \n",
            "  inflating: lymphocyte/manual_seg/center/59m.tif  \n",
            "  inflating: lymphocyte/manual_seg/center/5m.tif  \n",
            "  inflating: lymphocyte/manual_seg/center/60m.tif  \n",
            "  inflating: lymphocyte/manual_seg/center/61m.tif  \n",
            "  inflating: lymphocyte/manual_seg/center/62m.tif  \n",
            "  inflating: lymphocyte/manual_seg/center/63m.tif  \n",
            "  inflating: lymphocyte/manual_seg/center/64m.tif  \n",
            "  inflating: lymphocyte/manual_seg/center/65m.tif  \n",
            "  inflating: lymphocyte/manual_seg/center/66m.tif  \n",
            "  inflating: lymphocyte/manual_seg/center/67m.tif  \n",
            "  inflating: lymphocyte/manual_seg/center/68m.tif  \n",
            "  inflating: lymphocyte/manual_seg/center/69m.tif  \n",
            "  inflating: lymphocyte/manual_seg/center/6m.tif  \n",
            "  inflating: lymphocyte/manual_seg/center/70m.tif  \n",
            "  inflating: lymphocyte/manual_seg/center/71m.tif  \n",
            "  inflating: lymphocyte/manual_seg/center/72m.tif  \n",
            "  inflating: lymphocyte/manual_seg/center/73m.tif  \n",
            "  inflating: lymphocyte/manual_seg/center/74m.tif  \n",
            "  inflating: lymphocyte/manual_seg/center/75m.tif  \n",
            "  inflating: lymphocyte/manual_seg/center/76m.tif  \n",
            "  inflating: lymphocyte/manual_seg/center/77m.tif  \n",
            "  inflating: lymphocyte/manual_seg/center/78m.tif  \n",
            "  inflating: lymphocyte/manual_seg/center/79m.tif  \n",
            "  inflating: lymphocyte/manual_seg/center/7m.tif  \n",
            "  inflating: lymphocyte/manual_seg/center/80m.tif  \n",
            "  inflating: lymphocyte/manual_seg/center/81m.tif  \n",
            "  inflating: lymphocyte/manual_seg/center/82m.tif  \n",
            "  inflating: lymphocyte/manual_seg/center/83m.tif  \n",
            "  inflating: lymphocyte/manual_seg/center/84m.tif  \n",
            "  inflating: lymphocyte/manual_seg/center/85m.tif  \n",
            "  inflating: lymphocyte/manual_seg/center/86m.tif  \n",
            "  inflating: lymphocyte/manual_seg/center/87m.tif  \n",
            "  inflating: lymphocyte/manual_seg/center/88m.tif  \n",
            "  inflating: lymphocyte/manual_seg/center/89m.tif  \n",
            "  inflating: lymphocyte/manual_seg/center/8m.tif  \n",
            "  inflating: lymphocyte/manual_seg/center/90m.tif  \n",
            "  inflating: lymphocyte/manual_seg/center/91m.tif  \n",
            "  inflating: lymphocyte/manual_seg/center/92m.tif  \n",
            "  inflating: lymphocyte/manual_seg/center/93m.tif  \n",
            "  inflating: lymphocyte/manual_seg/center/94m.tif  \n",
            "  inflating: lymphocyte/manual_seg/center/95m.tif  \n",
            "  inflating: lymphocyte/manual_seg/center/96m.tif  \n",
            "  inflating: lymphocyte/manual_seg/center/97m.tif  \n",
            "  inflating: lymphocyte/manual_seg/center/98m.tif  \n",
            "  inflating: lymphocyte/manual_seg/center/99m.tif  \n",
            "  inflating: lymphocyte/manual_seg/center/9m.tif  \n"
          ],
          "name": "stdout"
        }
      ]
    },
    {
      "cell_type": "code",
      "metadata": {
        "id": "Y5Uiv1vlZ_zo"
      },
      "source": [
        "import os\n",
        "import sys\n",
        "import random\n",
        "import warnings\n",
        "import numpy as np\n",
        "import pandas as pd\n",
        "import matplotlib.pyplot as plt\n",
        "import cv2\n",
        "from itertools import chain\n",
        "from skimage.io import imread, imshow, imread_collection, concatenate_images\n",
        "from skimage.transform import resize\n",
        "from skimage.morphology import label\n",
        "from tensorflow.keras.models import Model, load_model\n",
        "from tensorflow.keras import Sequential\n",
        "from tensorflow.keras.layers import Input,Dropout, Lambda,Conv2D, Conv2DTranspose,MaxPooling2D,concatenate\n",
        "from tensorflow.keras.callbacks import EarlyStopping, ModelCheckpoint\n",
        "from tensorflow.keras import backend as K\n",
        "import tensorflow as tf"
      ],
      "execution_count": null,
      "outputs": []
    },
    {
      "cell_type": "code",
      "metadata": {
        "id": "aQgSpeRCaPhg"
      },
      "source": [
        "IMG_WIDTH = 128\n",
        "IMG_HEIGHT = 128\n",
        "IMG_CHANNELS = 3"
      ],
      "execution_count": null,
      "outputs": []
    },
    {
      "cell_type": "code",
      "metadata": {
        "id": "2l7sOP8aaQWx"
      },
      "source": [
        "X_PATH = '/content/lymphocyte/data/'\n",
        "Y_PATH = '/content/lymphocyte/manual_seg/center/'"
      ],
      "execution_count": null,
      "outputs": []
    },
    {
      "cell_type": "code",
      "metadata": {
        "id": "Utiaqwe3bv-q"
      },
      "source": [
        "X_ids = os.listdir(X_PATH)\n",
        "Y_ids = os.listdir(Y_PATH)"
      ],
      "execution_count": null,
      "outputs": []
    },
    {
      "cell_type": "code",
      "metadata": {
        "id": "nhVcBLILcte9",
        "colab": {
          "base_uri": "https://localhost:8080/"
        },
        "outputId": "b090ca79-8b7b-4d6c-f6be-5fab7d50a4c2"
      },
      "source": [
        "print(len(X_ids))\n",
        "print(len(Y_ids))"
      ],
      "execution_count": null,
      "outputs": [
        {
          "output_type": "stream",
          "text": [
            "100\n",
            "100\n"
          ],
          "name": "stdout"
        }
      ]
    },
    {
      "cell_type": "code",
      "metadata": {
        "id": "US6yIOaPdB-Z"
      },
      "source": [
        "X_ids.sort()\n",
        "Y_ids.sort()"
      ],
      "execution_count": null,
      "outputs": []
    },
    {
      "cell_type": "code",
      "metadata": {
        "id": "z8pWNbPIdb0C",
        "colab": {
          "base_uri": "https://localhost:8080/"
        },
        "outputId": "58142c26-5e92-4f37-cfb9-1fa61c106982"
      },
      "source": [
        "print(X_ids)\n",
        "print(Y_ids)"
      ],
      "execution_count": null,
      "outputs": [
        {
          "output_type": "stream",
          "text": [
            "['im1.tif', 'im10.tif', 'im100.tif', 'im11.tif', 'im12.tif', 'im13.tif', 'im14.tif', 'im15.tif', 'im16.tif', 'im17.tif', 'im18.tif', 'im19.tif', 'im2.tif', 'im20.tif', 'im21.tif', 'im22.tif', 'im23.tif', 'im24.tif', 'im25.tif', 'im26.tif', 'im27.tif', 'im28.tif', 'im29.tif', 'im3.tif', 'im30.tif', 'im31.tif', 'im32.tif', 'im33.tif', 'im34.tif', 'im35.tif', 'im36.tif', 'im37.tif', 'im38.tif', 'im39.tif', 'im4.tif', 'im40.tif', 'im41.tif', 'im42.tif', 'im43.tif', 'im44.tif', 'im45.tif', 'im46.tif', 'im47.tif', 'im48.tif', 'im49.tif', 'im5.tif', 'im50.tif', 'im51.tif', 'im52.tif', 'im53.tif', 'im54.tif', 'im55.tif', 'im56.tif', 'im57.tif', 'im58.tif', 'im59.tif', 'im6.tif', 'im60.tif', 'im61.tif', 'im62.tif', 'im63.tif', 'im64.tif', 'im65.tif', 'im66.tif', 'im67.tif', 'im68.tif', 'im69.tif', 'im7.tif', 'im70.tif', 'im71.tif', 'im72.tif', 'im73.tif', 'im74.tif', 'im75.tif', 'im76.tif', 'im77.tif', 'im78.tif', 'im79.tif', 'im8.tif', 'im80.tif', 'im81.tif', 'im82.tif', 'im83.tif', 'im84.tif', 'im85.tif', 'im86.tif', 'im87.tif', 'im88.tif', 'im89.tif', 'im9.tif', 'im90.tif', 'im91.tif', 'im92.tif', 'im93.tif', 'im94.tif', 'im95.tif', 'im96.tif', 'im97.tif', 'im98.tif', 'im99.tif']\n",
            "['100m.tif', '10m.tif', '11m.tif', '12m.tif', '13m.tif', '14m.tif', '15m.tif', '16m.tif', '17m.tif', '18m.tif', '19m.tif', '1m.tif', '20m.tif', '21m.tif', '22m.tif', '23m.tif', '24m.tif', '25m.tif', '26m.tif', '27m.tif', '28m.tif', '29m.tif', '2m.tif', '30m.tif', '31m.tif', '32m.tif', '33m.tif', '34m.tif', '35m.tif', '36m.tif', '37m.tif', '38m.tif', '39m.tif', '3m.tif', '40m.tif', '41m.tif', '42m.tif', '43m.tif', '44m.tif', '45m.tif', '46m.tif', '47m.tif', '48m.tif', '49m.tif', '4m.tif', '50m.tif', '51m.tif', '52m.tif', '53m.tif', '54m.tif', '55m.tif', '56m.tif', '57m.tif', '58m.tif', '59m.tif', '5m.tif', '60m.tif', '61m.tif', '62m.tif', '63m.tif', '64m.tif', '65m.tif', '66m.tif', '67m.tif', '68m.tif', '69m.tif', '6m.tif', '70m.tif', '71m.tif', '72m.tif', '73m.tif', '74m.tif', '75m.tif', '76m.tif', '77m.tif', '78m.tif', '79m.tif', '7m.tif', '80m.tif', '81m.tif', '82m.tif', '83m.tif', '84m.tif', '85m.tif', '86m.tif', '87m.tif', '88m.tif', '89m.tif', '8m.tif', '90m.tif', '91m.tif', '92m.tif', '93m.tif', '94m.tif', '95m.tif', '96m.tif', '97m.tif', '98m.tif', '99m.tif', '9m.tif']\n"
          ],
          "name": "stdout"
        }
      ]
    },
    {
      "cell_type": "code",
      "metadata": {
        "id": "iIE6LTZZeqdg"
      },
      "source": [
        "X = np.zeros((len(X_ids), IMG_HEIGHT, IMG_WIDTH, IMG_CHANNELS), dtype=np.uint8)\n",
        "Y = np.zeros((len(Y_ids), IMG_HEIGHT, IMG_WIDTH,1), dtype=np.bool)\n",
        "sys.stdout.flush()\n",
        "x_ids=enumerate(X_ids)\n",
        "for n, id_ in x_ids:\n",
        "    path = X_PATH + id_\n",
        "    img = imread(path)[:,:,:IMG_CHANNELS]\n",
        "    img = resize(img, (IMG_HEIGHT, IMG_WIDTH), mode='constant', preserve_range=True)\n",
        "    X[n] = img\n",
        "    mask = cv2.imread(Y_PATH+id_[2:-4]+\"m.tif\",0)\n",
        "    mask = np.expand_dims(resize(mask, (IMG_HEIGHT, IMG_WIDTH), mode='constant', \n",
        "                                      preserve_range=True), axis=-1)\n",
        "    Y[n] = mask"
      ],
      "execution_count": null,
      "outputs": []
    },
    {
      "cell_type": "code",
      "metadata": {
        "id": "m4KuY3DqiuQA"
      },
      "source": [
        "from PIL import Image\n",
        "from IPython.display import display"
      ],
      "execution_count": null,
      "outputs": []
    },
    {
      "cell_type": "code",
      "metadata": {
        "id": "b04YusVzjJE8",
        "colab": {
          "base_uri": "https://localhost:8080/",
          "height": 290
        },
        "outputId": "755b614e-b11f-4e77-881d-17ee1bdfcf1d"
      },
      "source": [
        "ix = random.randint(0, len(X_ids))\n",
        "print(X_ids[ix])\n",
        "display(Image.fromarray(X[ix]))\n",
        "display(Image.fromarray(np.squeeze(Y[ix])))"
      ],
      "execution_count": null,
      "outputs": [
        {
          "output_type": "stream",
          "text": [
            "im69.tif\n"
          ],
          "name": "stdout"
        },
        {
          "output_type": "display_data",
          "data": {
            "image/png": "[encoded data removed]",
            "text/plain": [
              "<PIL.Image.Image image mode=RGB size=128x128 at 0x7FEB8F14D588>"
            ]
          },
          "metadata": {
            "tags": []
          }
        },
        {
          "output_type": "display_data",
          "data": {
            "image/png": "[encoded data removed]",
            "text/plain": [
              "<PIL.Image.Image image mode=1 size=128x128 at 0x7FEB8F14D518>"
            ]
          },
          "metadata": {
            "tags": []
          }
        }
      ]
    },
    {
      "cell_type": "code",
      "metadata": {
        "id": "w8DgLfYCkgHQ"
      },
      "source": [
        "X_train=X[:95]\n",
        "Y_train=Y[:95]\n",
        "X_test=X[95:]\n",
        "Y_test=Y[95:]"
      ],
      "execution_count": null,
      "outputs": []
    },
    {
      "cell_type": "code",
      "metadata": {
        "id": "vlBGj6CHrHcd"
      },
      "source": [
        "from keras import backend as K\n",
        "def iou_coef(y_true, y_pred, smooth=1):\n",
        "  intersection = K.sum(K.abs(y_true * y_pred), axis=[1,2,3])\n",
        "  union = K.sum(y_true,[1,2,3])+K.sum(y_pred,[1,2,3])-intersection\n",
        "  iou = K.mean((intersection + smooth) / (union + smooth), axis=0)\n",
        "  return iou"
      ],
      "execution_count": null,
      "outputs": []
    },
    {
      "cell_type": "code",
      "metadata": {
        "id": "o6PZCj9AkwX9",
        "colab": {
          "base_uri": "https://localhost:8080/"
        },
        "outputId": "8bd362b7-6399-4488-d630-20a82d3d2235"
      },
      "source": [
        "inputs = Input((IMG_HEIGHT, IMG_WIDTH, IMG_CHANNELS))\n",
        "s = Lambda(lambda x: x / 255) (inputs)\n",
        "\n",
        "\n",
        "c1 = Conv2D(16, (3, 3), activation='relu', padding='same') (s)\n",
        "#c1 = Dropout(0.1) (c1)\n",
        "c1 = Conv2D(16, (3, 3), activation='relu', padding='same') (c1)\n",
        "p1 = MaxPooling2D((2, 2),strides=2) (c1)\n",
        "\n",
        "c2 = Conv2D(32, (3, 3), activation='relu', padding='same') (p1)\n",
        "#c2 = Dropout(0.1) (c2)\n",
        "c2 = Conv2D(32, (3, 3), activation='relu', padding='same') (c2)\n",
        "p2 = MaxPooling2D((2, 2),strides=2) (c2)\n",
        "\n",
        "c3 = Conv2D(64, (3, 3), activation='relu', padding='same') (p2)\n",
        "#c3 = Dropout(0.1) (c3)\n",
        "c3 = Conv2D(64, (3, 3), activation='relu', padding='same') (c3)\n",
        "p3 = MaxPooling2D((2, 2),strides=2) (c3)\n",
        "\n",
        "c4 = Conv2D(128, (3, 3), activation='relu', padding='same') (p3)\n",
        "#c4 = Dropout(0.1) (c4)\n",
        "c4 = Conv2D(128, (3, 3), activation='relu', padding='same') (c4)\n",
        "p4 = MaxPooling2D(pool_size=(2, 2),strides=2) (c4)\n",
        "\n",
        "c5 = Conv2D(256, (3, 3), activation='relu', padding='same') (p4)\n",
        "#c5 = Dropout(0.1) (c5)\n",
        "c5 = Conv2D(256, (3, 3), activation='relu', padding='same') (c5)\n",
        "\n",
        "u6 = Conv2DTranspose(128, (2, 2), strides=(2, 2), padding='same') (c5)\n",
        "u6 = concatenate([u6, c4])\n",
        "c6 = Conv2D(128, (3, 3), activation='relu', padding='same') (u6)\n",
        "#c6 = Dropout(0.1) (c6)\n",
        "c6 = Conv2D(128, (3, 3), activation='relu', padding='same') (c6)\n",
        "\n",
        "u7 = Conv2DTranspose(64, (2, 2), strides=(2, 2), padding='same') (c6)\n",
        "u7 = concatenate([u7, c3])\n",
        "c7 = Conv2D(64, (3, 3), activation='relu', padding='same') (u7)\n",
        "#c7 = Dropout(0.1) (c7)\n",
        "c7 = Conv2D(64, (3, 3), activation='relu', padding='same') (c7)\n",
        "\n",
        "u8 = Conv2DTranspose(32, (2, 2), strides=(2, 2), padding='same') (c7)\n",
        "u8 = concatenate([u8, c2])\n",
        "c8 = Conv2D(32, (3, 3), activation='relu', padding='same') (u8)\n",
        "#c8 = Dropout(0.1) (c8)\n",
        "c8 = Conv2D(32, (3, 3), activation='relu', padding='same') (c8)\n",
        "\n",
        "u9 = Conv2DTranspose(16, (2, 2), strides=(2, 2), padding='same') (c8)\n",
        "u9 = concatenate([u9, c1], axis=3)\n",
        "c9 = Conv2D(16, (3, 3), activation='relu', padding='same') (u9)\n",
        "#c9 = Dropout(0.1) (c9)\n",
        "c9 = Conv2D(16, (3, 3), activation='relu', padding='same') (c9)\n",
        "\n",
        "outputs = Conv2D(1, (1, 1), activation='sigmoid') (c9)\n",
        "\n",
        "model = Model(inputs=[inputs], outputs=[outputs])\n",
        "model.compile(optimizer='adam', loss='binary_crossentropy', metrics=[iou_coef])\n",
        "model.summary()"
      ],
      "execution_count": null,
      "outputs": [
        {
          "output_type": "stream",
          "text": [
            "Model: \"model\"\n",
            "__________________________________________________________________________________________________\n",
            "Layer (type)                    Output Shape         Param #     Connected to                     \n",
            "==================================================================================================\n",
            "input_1 (InputLayer)            [(None, 128, 128, 3) 0                                            \n",
            "__________________________________________________________________________________________________\n",
            "lambda (Lambda)                 (None, 128, 128, 3)  0           input_1[0][0]                    \n",
            "__________________________________________________________________________________________________\n",
            "conv2d (Conv2D)                 (None, 128, 128, 16) 448         lambda[0][0]                     \n",
            "__________________________________________________________________________________________________\n",
            "conv2d_1 (Conv2D)               (None, 128, 128, 16) 2320        conv2d[0][0]                     \n",
            "__________________________________________________________________________________________________\n",
            "max_pooling2d (MaxPooling2D)    (None, 64, 64, 16)   0           conv2d_1[0][0]                   \n",
            "__________________________________________________________________________________________________\n",
            "conv2d_2 (Conv2D)               (None, 64, 64, 32)   4640        max_pooling2d[0][0]              \n",
            "__________________________________________________________________________________________________\n",
            "conv2d_3 (Conv2D)               (None, 64, 64, 32)   9248        conv2d_2[0][0]                   \n",
            "__________________________________________________________________________________________________\n",
            "max_pooling2d_1 (MaxPooling2D)  (None, 32, 32, 32)   0           conv2d_3[0][0]                   \n",
            "__________________________________________________________________________________________________\n",
            "conv2d_4 (Conv2D)               (None, 32, 32, 64)   18496       max_pooling2d_1[0][0]            \n",
            "__________________________________________________________________________________________________\n",
            "conv2d_5 (Conv2D)               (None, 32, 32, 64)   36928       conv2d_4[0][0]                   \n",
            "__________________________________________________________________________________________________\n",
            "max_pooling2d_2 (MaxPooling2D)  (None, 16, 16, 64)   0           conv2d_5[0][0]                   \n",
            "__________________________________________________________________________________________________\n",
            "conv2d_6 (Conv2D)               (None, 16, 16, 128)  73856       max_pooling2d_2[0][0]            \n",
            "__________________________________________________________________________________________________\n",
            "conv2d_7 (Conv2D)               (None, 16, 16, 128)  147584      conv2d_6[0][0]                   \n",
            "__________________________________________________________________________________________________\n",
            "max_pooling2d_3 (MaxPooling2D)  (None, 8, 8, 128)    0           conv2d_7[0][0]                   \n",
            "__________________________________________________________________________________________________\n",
            "conv2d_8 (Conv2D)               (None, 8, 8, 256)    295168      max_pooling2d_3[0][0]            \n",
            "__________________________________________________________________________________________________\n",
            "conv2d_9 (Conv2D)               (None, 8, 8, 256)    590080      conv2d_8[0][0]                   \n",
            "__________________________________________________________________________________________________\n",
            "conv2d_transpose (Conv2DTranspo (None, 16, 16, 128)  131200      conv2d_9[0][0]                   \n",
            "__________________________________________________________________________________________________\n",
            "concatenate (Concatenate)       (None, 16, 16, 256)  0           conv2d_transpose[0][0]           \n",
            "                                                                 conv2d_7[0][0]                   \n",
            "__________________________________________________________________________________________________\n",
            "conv2d_10 (Conv2D)              (None, 16, 16, 128)  295040      concatenate[0][0]                \n",
            "__________________________________________________________________________________________________\n",
            "conv2d_11 (Conv2D)              (None, 16, 16, 128)  147584      conv2d_10[0][0]                  \n",
            "__________________________________________________________________________________________________\n",
            "conv2d_transpose_1 (Conv2DTrans (None, 32, 32, 64)   32832       conv2d_11[0][0]                  \n",
            "__________________________________________________________________________________________________\n",
            "concatenate_1 (Concatenate)     (None, 32, 32, 128)  0           conv2d_transpose_1[0][0]         \n",
            "                                                                 conv2d_5[0][0]                   \n",
            "__________________________________________________________________________________________________\n",
            "conv2d_12 (Conv2D)              (None, 32, 32, 64)   73792       concatenate_1[0][0]              \n",
            "__________________________________________________________________________________________________\n",
            "conv2d_13 (Conv2D)              (None, 32, 32, 64)   36928       conv2d_12[0][0]                  \n",
            "__________________________________________________________________________________________________\n",
            "conv2d_transpose_2 (Conv2DTrans (None, 64, 64, 32)   8224        conv2d_13[0][0]                  \n",
            "__________________________________________________________________________________________________\n",
            "concatenate_2 (Concatenate)     (None, 64, 64, 64)   0           conv2d_transpose_2[0][0]         \n",
            "                                                                 conv2d_3[0][0]                   \n",
            "__________________________________________________________________________________________________\n",
            "conv2d_14 (Conv2D)              (None, 64, 64, 32)   18464       concatenate_2[0][0]              \n",
            "__________________________________________________________________________________________________\n",
            "conv2d_15 (Conv2D)              (None, 64, 64, 32)   9248        conv2d_14[0][0]                  \n",
            "__________________________________________________________________________________________________\n",
            "conv2d_transpose_3 (Conv2DTrans (None, 128, 128, 16) 2064        conv2d_15[0][0]                  \n",
            "__________________________________________________________________________________________________\n",
            "concatenate_3 (Concatenate)     (None, 128, 128, 32) 0           conv2d_transpose_3[0][0]         \n",
            "                                                                 conv2d_1[0][0]                   \n",
            "__________________________________________________________________________________________________\n",
            "conv2d_16 (Conv2D)              (None, 128, 128, 16) 4624        concatenate_3[0][0]              \n",
            "__________________________________________________________________________________________________\n",
            "conv2d_17 (Conv2D)              (None, 128, 128, 16) 2320        conv2d_16[0][0]                  \n",
            "__________________________________________________________________________________________________\n",
            "conv2d_18 (Conv2D)              (None, 128, 128, 1)  17          conv2d_17[0][0]                  \n",
            "==================================================================================================\n",
            "Total params: 1,941,105\n",
            "Trainable params: 1,941,105\n",
            "Non-trainable params: 0\n",
            "__________________________________________________________________________________________________\n"
          ],
          "name": "stdout"
        }
      ]
    },
    {
      "cell_type": "code",
      "metadata": {
        "id": "yTwOmUXck0Zy",
        "colab": {
          "base_uri": "https://localhost:8080/"
        },
        "outputId": "f6e7a5e5-2e74-46c8-addc-d5bf443684b8"
      },
      "source": [
        "earlystopper = EarlyStopping(patience=5, verbose=1)\n",
        "checkpointer = ModelCheckpoint('lymphocytes_counting.h5', verbose=1, save_best_only=True)\n",
        "results = model.fit(X_train, Y_train,validation_data=(X_test,Y_test),batch_size=1, epochs=50,callbacks=[earlystopper, checkpointer])"
      ],
      "execution_count": null,
      "outputs": [
        {
          "output_type": "stream",
          "text": [
            "Epoch 1/50\n",
            "95/95 [==============================] - 21s 201ms/step - loss: 0.1919 - iou_coef: 0.0174 - val_loss: 0.0213 - val_iou_coef: 0.1086\n",
            "\n",
            "Epoch 00001: val_loss improved from inf to 0.02132, saving model to lymphocytes_counting.h5\n",
            "Epoch 2/50\n",
            "95/95 [==============================] - 18s 189ms/step - loss: 0.0352 - iou_coef: 0.1104 - val_loss: 0.0187 - val_iou_coef: 0.1679\n",
            "\n",
            "Epoch 00002: val_loss improved from 0.02132 to 0.01875, saving model to lymphocytes_counting.h5\n",
            "Epoch 3/50\n",
            "95/95 [==============================] - 18s 190ms/step - loss: 0.0317 - iou_coef: 0.1623 - val_loss: 0.0162 - val_iou_coef: 0.2321\n",
            "\n",
            "Epoch 00003: val_loss improved from 0.01875 to 0.01623, saving model to lymphocytes_counting.h5\n",
            "Epoch 4/50\n",
            "95/95 [==============================] - 18s 190ms/step - loss: 0.0281 - iou_coef: 0.2094 - val_loss: 0.0166 - val_iou_coef: 0.2366\n",
            "\n",
            "Epoch 00004: val_loss did not improve from 0.01623\n",
            "Epoch 5/50\n",
            "95/95 [==============================] - 18s 188ms/step - loss: 0.0282 - iou_coef: 0.2139 - val_loss: 0.0166 - val_iou_coef: 0.2199\n",
            "\n",
            "Epoch 00005: val_loss did not improve from 0.01623\n",
            "Epoch 6/50\n",
            "95/95 [==============================] - 18s 192ms/step - loss: 0.0271 - iou_coef: 0.2155 - val_loss: 0.0154 - val_iou_coef: 0.2550\n",
            "\n",
            "Epoch 00006: val_loss improved from 0.01623 to 0.01542, saving model to lymphocytes_counting.h5\n",
            "Epoch 7/50\n",
            "95/95 [==============================] - 18s 190ms/step - loss: 0.0270 - iou_coef: 0.2343 - val_loss: 0.0153 - val_iou_coef: 0.2688\n",
            "\n",
            "Epoch 00007: val_loss improved from 0.01542 to 0.01534, saving model to lymphocytes_counting.h5\n",
            "Epoch 8/50\n",
            "95/95 [==============================] - 18s 188ms/step - loss: 0.0261 - iou_coef: 0.2394 - val_loss: 0.0152 - val_iou_coef: 0.2702\n",
            "\n",
            "Epoch 00008: val_loss improved from 0.01534 to 0.01517, saving model to lymphocytes_counting.h5\n",
            "Epoch 9/50\n",
            "95/95 [==============================] - 18s 189ms/step - loss: 0.0261 - iou_coef: 0.2478 - val_loss: 0.0156 - val_iou_coef: 0.2701\n",
            "\n",
            "Epoch 00009: val_loss did not improve from 0.01517\n",
            "Epoch 10/50\n",
            "95/95 [==============================] - 18s 188ms/step - loss: 0.0262 - iou_coef: 0.2430 - val_loss: 0.0154 - val_iou_coef: 0.2894\n",
            "\n",
            "Epoch 00010: val_loss did not improve from 0.01517\n",
            "Epoch 11/50\n",
            "95/95 [==============================] - 18s 188ms/step - loss: 0.0250 - iou_coef: 0.2603 - val_loss: 0.0152 - val_iou_coef: 0.2790\n",
            "\n",
            "Epoch 00011: val_loss improved from 0.01517 to 0.01516, saving model to lymphocytes_counting.h5\n",
            "Epoch 12/50\n",
            "95/95 [==============================] - 18s 189ms/step - loss: 0.0243 - iou_coef: 0.2656 - val_loss: 0.0157 - val_iou_coef: 0.2837\n",
            "\n",
            "Epoch 00012: val_loss did not improve from 0.01516\n",
            "Epoch 13/50\n",
            "95/95 [==============================] - 18s 188ms/step - loss: 0.0252 - iou_coef: 0.2688 - val_loss: 0.0154 - val_iou_coef: 0.2876\n",
            "\n",
            "Epoch 00013: val_loss did not improve from 0.01516\n",
            "Epoch 14/50\n",
            "95/95 [==============================] - 18s 193ms/step - loss: 0.0226 - iou_coef: 0.2739 - val_loss: 0.0152 - val_iou_coef: 0.2896\n",
            "\n",
            "Epoch 00014: val_loss did not improve from 0.01516\n",
            "Epoch 15/50\n",
            "95/95 [==============================] - 18s 190ms/step - loss: 0.0244 - iou_coef: 0.2903 - val_loss: 0.0151 - val_iou_coef: 0.2968\n",
            "\n",
            "Epoch 00015: val_loss improved from 0.01516 to 0.01508, saving model to lymphocytes_counting.h5\n",
            "Epoch 16/50\n",
            "95/95 [==============================] - 18s 189ms/step - loss: 0.0214 - iou_coef: 0.2991 - val_loss: 0.0155 - val_iou_coef: 0.3012\n",
            "\n",
            "Epoch 00016: val_loss did not improve from 0.01508\n",
            "Epoch 17/50\n",
            "95/95 [==============================] - 18s 190ms/step - loss: 0.0207 - iou_coef: 0.3123 - val_loss: 0.0156 - val_iou_coef: 0.3176\n",
            "\n",
            "Epoch 00017: val_loss did not improve from 0.01508\n",
            "Epoch 18/50\n",
            "95/95 [==============================] - 18s 189ms/step - loss: 0.0210 - iou_coef: 0.3318 - val_loss: 0.0163 - val_iou_coef: 0.2949\n",
            "\n",
            "Epoch 00018: val_loss did not improve from 0.01508\n",
            "Epoch 19/50\n",
            "95/95 [==============================] - 18s 191ms/step - loss: 0.0185 - iou_coef: 0.3535 - val_loss: 0.0161 - val_iou_coef: 0.3007\n",
            "\n",
            "Epoch 00019: val_loss did not improve from 0.01508\n",
            "Epoch 20/50\n",
            "95/95 [==============================] - 18s 192ms/step - loss: 0.0178 - iou_coef: 0.3551 - val_loss: 0.0175 - val_iou_coef: 0.3153\n",
            "\n",
            "Epoch 00020: val_loss did not improve from 0.01508\n",
            "Epoch 00020: early stopping\n"
          ],
          "name": "stdout"
        }
      ]
    },
    {
      "cell_type": "code",
      "metadata": {
        "id": "4ddELx2s91m0",
        "colab": {
          "base_uri": "https://localhost:8080/",
          "height": 540
        },
        "outputId": "fc868acd-84b0-4db1-c464-94e0086458fd"
      },
      "source": [
        "img_pred = np.expand_dims(X_train[79], axis=0)\n",
        "pred=model.predict(img_pred, verbose=1)\n",
        "img=(cv2.cvtColor(np.squeeze((np.round(pred))*255), cv2.COLOR_GRAY2BGR)).astype(np.uint8)\n",
        "print(\"image\")\n",
        "display(Image.fromarray(X_train[79]))\n",
        "print(\"\\n\")\n",
        "print(\"actual mask\")\n",
        "display(Image.fromarray(np.squeeze(Y_train[79])))\n",
        "print(\"\\n\")\n",
        "print(\"predicted mask\")\n",
        "display(Image.fromarray(img))\n",
        "img=cv2.cvtColor(img,cv2.COLOR_BGR2GRAY)"
      ],
      "execution_count": null,
      "outputs": [
        {
          "output_type": "stream",
          "text": [
            "1/1 [==============================] - 0s 289ms/step\n",
            "image\n"
          ],
          "name": "stdout"
        },
        {
          "output_type": "display_data",
          "data": {
            "image/png": "[encoded data removed]",
            "text/plain": [
              "<PIL.Image.Image image mode=RGB size=128x128 at 0x7FEB54A4D080>"
            ]
          },
          "metadata": {
            "tags": []
          }
        },
        {
          "output_type": "stream",
          "text": [
            "\n",
            "\n",
            "actual mask\n"
          ],
          "name": "stdout"
        },
        {
          "output_type": "display_data",
          "data": {
            "image/png": "[encoded data removed]",
            "text/plain": [
              "<PIL.Image.Image image mode=1 size=128x128 at 0x7FEB54A39240>"
            ]
          },
          "metadata": {
            "tags": []
          }
        },
        {
          "output_type": "stream",
          "text": [
            "\n",
            "\n",
            "predicted mask\n"
          ],
          "name": "stdout"
        },
        {
          "output_type": "display_data",
          "data": {
            "image/png": "[encoded data removed]",
            "text/plain": [
              "<PIL.Image.Image image mode=RGB size=128x128 at 0x7FEB52931898>"
            ]
          },
          "metadata": {
            "tags": []
          }
        }
      ]
    },
    {
      "cell_type": "code",
      "metadata": {
        "id": "KM7vwMlh8bmk"
      },
      "source": [
        "model.save(\"lym_model.h5\")"
      ],
      "execution_count": null,
      "outputs": []
    },
    {
      "cell_type": "code",
      "metadata": {
        "colab": {
          "base_uri": "https://localhost:8080/",
          "height": 17
        },
        "id": "8ikgAaE88hCg",
        "outputId": "25d82e47-1fad-49a6-a8b3-b47dcac11ceb"
      },
      "source": [
        "from google.colab import files\n",
        "files.download('lym_model.h5') "
      ],
      "execution_count": null,
      "outputs": [
        {
          "output_type": "display_data",
          "data": {
            "application/javascript": [
              "\n",
              "    async function download(id, filename, size) {\n",
              "      if (!google.colab.kernel.accessAllowed) {\n",
              "        return;\n",
              "      }\n",
              "      const div = document.createElement('div');\n",
              "      const label = document.createElement('label');\n",
              "      label.textContent = `Downloading \"${filename}\": `;\n",
              "      div.appendChild(label);\n",
              "      const progress = document.createElement('progress');\n",
              "      progress.max = size;\n",
              "      div.appendChild(progress);\n",
              "      document.body.appendChild(div);\n",
              "\n",
              "      const buffers = [];\n",
              "      let downloaded = 0;\n",
              "\n",
              "      const channel = await google.colab.kernel.comms.open(id);\n",
              "      // Send a message to notify the kernel that we're ready.\n",
              "      channel.send({})\n",
              "\n",
              "      for await (const message of channel.messages) {\n",
              "        // Send a message to notify the kernel that we're ready.\n",
              "        channel.send({})\n",
              "        if (message.buffers) {\n",
              "          for (const buffer of message.buffers) {\n",
              "            buffers.push(buffer);\n",
              "            downloaded += buffer.byteLength;\n",
              "            progress.value = downloaded;\n",
              "          }\n",
              "        }\n",
              "      }\n",
              "      const blob = new Blob(buffers, {type: 'application/binary'});\n",
              "      const a = document.createElement('a');\n",
              "      a.href = window.URL.createObjectURL(blob);\n",
              "      a.download = filename;\n",
              "      div.appendChild(a);\n",
              "      a.click();\n",
              "      div.remove();\n",
              "    }\n",
              "  "
            ],
            "text/plain": [
              "<IPython.core.display.Javascript object>"
            ]
          },
          "metadata": {
            "tags": []
          }
        },
        {
          "output_type": "display_data",
          "data": {
            "application/javascript": [
              "download(\"download_7a5ee667-5c98-44dc-8b28-deac44da9944\", \"lym_model.h5\", 23512968)"
            ],
            "text/plain": [
              "<IPython.core.display.Javascript object>"
            ]
          },
          "metadata": {
            "tags": []
          }
        }
      ]
    },
    {
      "cell_type": "code",
      "metadata": {
        "id": "p70klhi8A7vS"
      },
      "source": [
        "contours, hierarchy = cv2.findContours(img,cv2.RETR_TREE,cv2.CHAIN_APPROX_SIMPLE)"
      ],
      "execution_count": null,
      "outputs": []
    },
    {
      "cell_type": "code",
      "metadata": {
        "id": "zaVnxRkzCEPZ",
        "colab": {
          "base_uri": "https://localhost:8080/"
        },
        "outputId": "8ff38c5c-ba87-4632-95dc-0fc96ae24caf"
      },
      "source": [
        "print(\"Total number of lymphocytes in patch:\")\n",
        "print(len(contours))"
      ],
      "execution_count": null,
      "outputs": [
        {
          "output_type": "stream",
          "text": [
            "Total number of lymphocytes in patch:\n",
            "29\n"
          ],
          "name": "stdout"
        }
      ]
    },
    {
      "cell_type": "code",
      "metadata": {
        "id": "H313mv76CvK6"
      },
      "source": [
        "img=cv2.cvtColor(img,cv2.COLOR_GRAY2RGB)"
      ],
      "execution_count": null,
      "outputs": []
    },
    {
      "cell_type": "code",
      "metadata": {
        "id": "TDORzZnCCjqL"
      },
      "source": [
        "img = cv2.drawContours(img, contours, -1, (0,255,0), 3)"
      ],
      "execution_count": null,
      "outputs": []
    },
    {
      "cell_type": "code",
      "metadata": {
        "id": "uRMGCKjTCpMi",
        "colab": {
          "base_uri": "https://localhost:8080/",
          "height": 145
        },
        "outputId": "ead16236-2b7b-48e8-939e-feb705978242"
      },
      "source": [
        "display(Image.fromarray(img))"
      ],
      "execution_count": null,
      "outputs": [
        {
          "output_type": "display_data",
          "data": {
            "image/png": "[encoded data removed]",
            "text/plain": [
              "<PIL.Image.Image image mode=RGB size=128x128 at 0x7FEB54A33F28>"
            ]
          },
          "metadata": {
            "tags": []
          }
        }
      ]
    },
    {
      "cell_type": "code",
      "metadata": {
        "id": "J1__-sPCDDJg",
        "colab": {
          "base_uri": "https://localhost:8080/"
        },
        "outputId": "9304c5c8-01de-45ce-bb31-d0b02f3dd104"
      },
      "source": [
        "print(\"lymphocyte coordinates:\")\n",
        "for cnt in contours:\n",
        "  (x,y),radius = cv2.minEnclosingCircle(cnt)\n",
        "  print(\"(\"+str(x)+\",\"+str(y)+\")\")"
      ],
      "execution_count": null,
      "outputs": [
        {
          "output_type": "stream",
          "text": [
            "lymphocyte coordinates:\n",
            "(123.0,125.0)\n",
            "(105.0,122.5)\n",
            "(50.0,112.5)\n",
            "(107.5,94.5)\n",
            "(125.5,91.5)\n",
            "(106.0,80.75)\n",
            "(31.5,79.5)\n",
            "(120.5,79.0)\n",
            "(9.0,73.0)\n",
            "(115.0,66.0)\n",
            "(122.0,58.0)\n",
            "(115.5,49.0)\n",
            "(48.25,49.0)\n",
            "(125.5,44.0)\n",
            "(14.0,43.5)\n",
            "(71.5,43.0)\n",
            "(97.75,39.0)\n",
            "(115.5,34.0)\n",
            "(48.75,34.0)\n",
            "(83.75,33.0)\n",
            "(4.0,32.0)\n",
            "(66.0,27.5)\n",
            "(98.5,26.0)\n",
            "(32.83333206176758,15.833333015441895)\n",
            "(5.5,12.5)\n",
            "(124.5,10.0)\n",
            "(94.0,10.0)\n",
            "(79.0,2.5)\n",
            "(51.0,2.5)\n"
          ],
          "name": "stdout"
        }
      ]
    }
  ]
}